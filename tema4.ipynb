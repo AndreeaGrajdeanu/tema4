{
 "cells": [
  {
   "cell_type": "markdown",
   "metadata": {},
   "source": [
    "### Logistic Regression Homework\n",
    "For each pair of 2 digits, (digit_0, digit_1) in the set {(0, 1), (2,7), (3, 4), (8,9)}, do the following:"
   ]
  },
  {
   "cell_type": "markdown",
   "metadata": {},
   "source": [
    "#### 1.Given the data retrieval method get_mnist_data, select the train and test data corresponding to just the two digits."
   ]
  },
  {
   "cell_type": "code",
   "execution_count": 1,
   "metadata": {},
   "outputs": [],
   "source": [
    "import numpy as np\n",
    "\n",
    "def get_mnist_data():\n",
    "    import os\n",
    "    from urllib.request import urlretrieve\n",
    "\n",
    "    def download(filename, source='http://yann.lecun.com/exdb/mnist/'):\n",
    "        print(\"Downloading %s\" % filename)\n",
    "        urlretrieve(source + filename, filename)\n",
    "\n",
    "    # We then define functions for loading MNIST images and labels.\n",
    "    # For convenience, they also download the requested files if needed.\n",
    "    import gzip\n",
    "\n",
    "    def load_mnist_images(filename):\n",
    "        if not os.path.exists(filename):\n",
    "            download(filename)\n",
    "        # Read the inputs in Yann LeCun's binary format.\n",
    "        with gzip.open(filename, 'rb') as f:\n",
    "            data = np.frombuffer(f.read(), np.uint8, offset=16)\n",
    "        # The inputs are vectors now, we reshape them to monochrome 2D images,\n",
    "        # following the shape convention: (examples, channels, rows, columns)\n",
    "        data = data.reshape(-1, 1, 28, 28)\n",
    "        # The inputs come as bytes, we convert them to float32 in range [0,1].\n",
    "        # (Actually to range [0, 255/256], for compatibility to the version\n",
    "        # provided at http://deeplearning.net/data/mnist/mnist.pkl.gz.)\n",
    "        return data / np.float32(256)\n",
    "\n",
    "    def load_mnist_labels(filename):\n",
    "        if not os.path.exists(filename):\n",
    "            download(filename)\n",
    "        # Read the labels in Yann LeCun's binary format.\n",
    "        with gzip.open(filename, 'rb') as f:\n",
    "            data = np.frombuffer(f.read(), np.uint8, offset=8)\n",
    "        # The labels are vectors of integers now, that's exactly what we want.\n",
    "        return data\n",
    "\n",
    "\n",
    "    x_train = load_mnist_images('train-images-idx3-ubyte.gz')\n",
    "    y_train = load_mnist_labels('train-labels-idx1-ubyte.gz')\n",
    "    x_test = load_mnist_images('t10k-images-idx3-ubyte.gz')\n",
    "    y_test = load_mnist_labels('t10k-labels-idx1-ubyte.gz')\n",
    "    \n",
    "    data = {'train': {'X': x_train[0:,0,0:28,0:28].reshape((x_train.shape[0],-1)),\n",
    "                      'y': y_train},\n",
    "            'test': {'X': x_test[0:,0,0:28,0:28].reshape((x_test.shape[0],-1)),\n",
    "                     'y': y_test}}\n",
    "    \n",
    "    return data\n"
   ]
  },
  {
   "cell_type": "code",
   "execution_count": 2,
   "metadata": {},
   "outputs": [],
   "source": [
    "data = get_mnist_data()"
   ]
  },
  {
   "cell_type": "code",
   "execution_count": 3,
   "metadata": {},
   "outputs": [
    {
     "name": "stdout",
     "output_type": "stream",
     "text": [
      "[0 2 3 8]\n",
      "[1 7 4 9]\n"
     ]
    }
   ],
   "source": [
    "# ne pregatim perechile de numere\n",
    "digit0 = np.array([0, 2, 3,8] )\n",
    "digit1 = np.array([1, 7, 4, 9])\n",
    "print(digit0)\n",
    "print(digit1)\n",
    "                "
   ]
  },
  {
   "cell_type": "code",
   "execution_count": 4,
   "metadata": {},
   "outputs": [
    {
     "name": "stdout",
     "output_type": "stream",
     "text": [
      "[7 2 1 0 4 1 4 9 5 9 0 6 9 0 1 5 9 7 3 4]\n",
      "[5 0 4 1 9 2 1 3 1 4 3 5 3 6 1 7 2 8 6 9]\n"
     ]
    }
   ],
   "source": [
    "example = data['test']['y'][0:20]\n",
    "example_1 = data['train']['y'][0:20]\n",
    "print(example)\n",
    "print(example_1)"
   ]
  },
  {
   "cell_type": "code",
   "execution_count": 5,
   "metadata": {},
   "outputs": [
    {
     "data": {
      "text/plain": [
       "(array([    7,    10,    12, ..., 59978, 59980, 59996]),\n",
       " array([    2,     9,    20, ..., 59943, 59951, 59975]),\n",
       " numpy.ndarray)"
      ]
     },
     "execution_count": 5,
     "metadata": {},
     "output_type": "execute_result"
    }
   ],
   "source": [
    "# definim o metoda care ne va returna o lista cu pozitiile pe care se afla o anumita cifra in '' data['train']['y'] ''\n",
    "\n",
    "\n",
    "m=len(data['train']['y'][:])\n",
    "n=len(data['test']['y'][:])\n",
    "\n",
    "def search_index(x):\n",
    "    list_1=np.array([])\n",
    "    for i in range(m):\n",
    "        if(data['train']['y'][i]==x):\n",
    "            list_1=np.append(list_1,[i])\n",
    "    return list_1\n",
    "\n",
    "indici_x=search_index(3).astype(int)\n",
    "indici_y=search_index(4).astype(int)\n",
    "indici_x,indici_y,type(data['train']['y'])"
   ]
  },
  {
   "cell_type": "code",
   "execution_count": 6,
   "metadata": {},
   "outputs": [],
   "source": [
    "# definim o alta functie, mai inteligenta, care ne va returna o lista cu pozitiile unei cifre din  ' data['train']['y'] '\n",
    "# si o alta lista cu pozitiile unei cifre din ' data['test']['y'] '\n",
    "\n",
    "def search_indici(x):\n",
    "    #m=len(data['train']['y'][:])\n",
    "    #n=len(data['test']['y'][:])\n",
    "    list_train=np.array([])\n",
    "    list_test=np.array([])\n",
    "    for i in range(m):\n",
    "        if(data['train']['y'][i] == x):\n",
    "            list_train=np.append(list_train,[i])\n",
    "    for i in range(n):\n",
    "        if(data['test']['y'][i] == x):\n",
    "            list_test=np.append(list_test,[i])        \n",
    "    return (list_train,list_test)"
   ]
  },
  {
   "cell_type": "code",
   "execution_count": 7,
   "metadata": {},
   "outputs": [
    {
     "data": {
      "text/plain": [
       "{'train': {'X': array([[0., 0., 0., ..., 0., 0., 0.],\n",
       "         [0., 0., 0., ..., 0., 0., 0.],\n",
       "         [0., 0., 0., ..., 0., 0., 0.],\n",
       "         ...,\n",
       "         [0., 0., 0., ..., 0., 0., 0.],\n",
       "         [0., 0., 0., ..., 0., 0., 0.],\n",
       "         [0., 0., 0., ..., 0., 0., 0.]], dtype=float32),\n",
       "  'y': array([5, 0, 4, ..., 5, 6, 8], dtype=uint8)},\n",
       " 'test': {'X': array([[0., 0., 0., ..., 0., 0., 0.],\n",
       "         [0., 0., 0., ..., 0., 0., 0.],\n",
       "         [0., 0., 0., ..., 0., 0., 0.],\n",
       "         ...,\n",
       "         [0., 0., 0., ..., 0., 0., 0.],\n",
       "         [0., 0., 0., ..., 0., 0., 0.],\n",
       "         [0., 0., 0., ..., 0., 0., 0.]], dtype=float32),\n",
       "  'y': array([7, 2, 1, ..., 4, 5, 6], dtype=uint8)}}"
      ]
     },
     "execution_count": 7,
     "metadata": {},
     "output_type": "execute_result"
    }
   ],
   "source": [
    "# ne dorim sa avem doar train data si test data pentru perechi de genul (a,b)\n",
    "# o prima metoda ar fi sa construim o copie a dictionarului \"data\" si sa stergem treptat datele care nu ne intereseaza \n",
    "# pastrand doar datele pentru perechea (a,b)\n",
    "\n",
    "import copy\n",
    "dict2 = copy.deepcopy(data)\n",
    "dict2"
   ]
  },
  {
   "cell_type": "code",
   "execution_count": 8,
   "metadata": {},
   "outputs": [
    {
     "name": "stdout",
     "output_type": "stream",
     "text": [
      "10 [[0. 0. 0. ... 0. 0. 0.]\n",
      " [0. 0. 0. ... 0. 0. 0.]\n",
      " [0. 0. 0. ... 0. 0. 0.]\n",
      " ...\n",
      " [0. 0. 0. ... 0. 0. 0.]\n",
      " [0. 0. 0. ... 0. 0. 0.]\n",
      " [0. 0. 0. ... 0. 0. 0.]]\n"
     ]
    }
   ],
   "source": [
    "dict3=data['train']['X'][0:10]\n",
    "print(len(dict3), dict3)"
   ]
  },
  {
   "cell_type": "code",
   "execution_count": 9,
   "metadata": {},
   "outputs": [
    {
     "data": {
      "text/plain": [
       "3"
      ]
     },
     "execution_count": 9,
     "metadata": {},
     "output_type": "execute_result"
    }
   ],
   "source": [
    "arr = np.array([[1,2,3,4], [5,6,7,8], [9,10,11,12]])\n",
    "len(arr)"
   ]
  },
  {
   "cell_type": "code",
   "execution_count": 10,
   "metadata": {},
   "outputs": [
    {
     "data": {
      "text/plain": [
       "array([[ 1,  2,  3,  4],\n",
       "       [ 9, 10, 11, 12]])"
      ]
     },
     "execution_count": 10,
     "metadata": {},
     "output_type": "execute_result"
    }
   ],
   "source": [
    "np.delete(arr, 1, 0)"
   ]
  },
  {
   "cell_type": "code",
   "execution_count": 11,
   "metadata": {},
   "outputs": [],
   "source": [
    "# definim o functie care va returna un cuplu (train_x,train_y) fiecare din cuplu pastrand datele din  \" data['train']['X'] \"\n",
    "# pentru perechea de cifre \"(x,y)\"\n",
    "def train_for_number(x,y):\n",
    "    a=[]\n",
    "    b=[]\n",
    "    indici_x=search_index(x).astype(int)\n",
    "    indici_y=search_index(y).astype(int)\n",
    "    n=len(indici_x)\n",
    "    m=len(indici_y)\n",
    "    for i in range(n):\n",
    "        a.append(data['train']['X'][indici_x[i]])\n",
    "    for j in range(m):\n",
    "        b.append(data['train']['X'][indici_y[j]])\n",
    "    train_x = np.asarray(a)\n",
    "    train_y = np.asarray(b)\n",
    "    return (train_x,train_y)\n",
    "\n",
    "pair_0_1=train_for_number(0,1)\n",
    "pair_2_7=train_for_number(2,7)\n",
    "pair_3_4=train_for_number(3,4)\n",
    "pair_8_9=train_for_number(8,9)"
   ]
  },
  {
   "cell_type": "code",
   "execution_count": 12,
   "metadata": {},
   "outputs": [
    {
     "name": "stdout",
     "output_type": "stream",
     "text": [
      "5923 5958 6131 5851\n",
      "6742 6265 5842 5949\n"
     ]
    }
   ],
   "source": [
    "print(len(pair_0_1[0]),len(pair_2_7[0]),len(pair_3_4[0]),len(pair_8_9[0]))\n",
    "print(len(pair_0_1[1]),len(pair_2_7[1]),len(pair_3_4[1]),len(pair_8_9[1]))"
   ]
  },
  {
   "cell_type": "code",
   "execution_count": 13,
   "metadata": {},
   "outputs": [],
   "source": [
    "# construim o functie, pornind de la ideea \"functiei train_for_number(x,y)\" , care va returna un set de date \"(data_x,data_y)\"\n",
    "# parametrii de intrare a functiei vor fi x si y , numerele din perechea de cifre,  iar ch este un String care va reprezenta\n",
    "# dorinta noastra de extragere a datelor : daca ch='train' extragem datele din data['train']['X'], daca \n",
    "# ch='test' extragem datele din data['test']['X']\n",
    "\n",
    "def data_for_pair(x,y,ch):\n",
    "    if (ch == 'train'):\n",
    "        l=0\n",
    "    if (ch == 'test'):\n",
    "        l=1\n",
    "    a=[]\n",
    "    b=[]\n",
    "    indici_x=search_indici(x)[l].astype(int)\n",
    "    indici_y=search_indici(y)[l].astype(int)\n",
    "    n=len(indici_x)\n",
    "    m=len(indici_y)\n",
    "    for i in range(n):\n",
    "        a.append(data[ch]['X'][indici_x[i]])\n",
    "    for j in range(m):\n",
    "        b.append(data[ch]['X'][indici_y[j]])\n",
    "    data_x = np.asarray(a)\n",
    "    data_y = np.asarray(b)\n",
    "    return (data_x,data_y)\n",
    "\n"
   ]
  },
  {
   "cell_type": "code",
   "execution_count": 14,
   "metadata": {},
   "outputs": [
    {
     "name": "stdout",
     "output_type": "stream",
     "text": [
      "5923 6742\n",
      "980 1135\n",
      "[[0. 0. 0. ... 0. 0. 0.]\n",
      " [0. 0. 0. ... 0. 0. 0.]\n",
      " [0. 0. 0. ... 0. 0. 0.]\n",
      " ...\n",
      " [0. 0. 0. ... 0. 0. 0.]\n",
      " [0. 0. 0. ... 0. 0. 0.]\n",
      " [0. 0. 0. ... 0. 0. 0.]]\n"
     ]
    }
   ],
   "source": [
    "train_pair_0_1=data_for_pair(0,1,'train')\n",
    "test_pair_0_1=data_for_pair(0,1,'test')\n",
    "\n",
    "print(len(train_pair_0_1[0]),len(train_pair_0_1[1]))\n",
    "print(len(test_pair_0_1[0]),len(test_pair_0_1[1]))\n",
    "print(train_pair_0_1[0])"
   ]
  },
  {
   "cell_type": "code",
   "execution_count": 15,
   "metadata": {},
   "outputs": [],
   "source": [
    "train_pair_2_7=data_for_pair(2,7,'train')\n",
    "test_pair_2_7=data_for_pair(2,7,'test')\n",
    "train_pair_3_4=data_for_pair(3,4,'train')\n",
    "test_pair_3_4=data_for_pair(3,4,'test')\n",
    "train_pair_8_9=data_for_pair(8,9,'train')\n",
    "test_pair_8_9=data_for_pair(8,9,'test')"
   ]
  },
  {
   "cell_type": "markdown",
   "metadata": {},
   "source": [
    "### acum avem toate datele corespunzatoare fiecarei perechi de cifre ;  am renuntat la ideea de a elimina treptat din copia dictionarului \"data\" , ci am selectat treptat datele corespunzatoare fiecarei cifre"
   ]
  },
  {
   "cell_type": "markdown",
   "metadata": {},
   "source": [
    "### 2. Using cross-fold validation with a number of 5 folds, compute the performance for each logistic regression probability threshold t in [0, 1] with 0.05 increments. Show the curve of accuracy performance for these values "
   ]
  },
  {
   "cell_type": "markdown",
   "metadata": {},
   "source": [
    "#### Calculam pentru perechea (0,1):"
   ]
  },
  {
   "cell_type": "code",
   "execution_count": 16,
   "metadata": {},
   "outputs": [
    {
     "name": "stdout",
     "output_type": "stream",
     "text": [
      "5923 6742\n",
      "5958 6265\n",
      "6131 5842\n",
      "5851 5949\n"
     ]
    }
   ],
   "source": [
    "print(len(train_pair_0_1[0]),len(train_pair_0_1[1]))\n",
    "print(len(train_pair_2_7[0]),len(train_pair_2_7[1]))\n",
    "print(len(train_pair_3_4[0]),len(train_pair_3_4[1]))\n",
    "print(len(train_pair_8_9[0]),len(train_pair_8_9[1]))"
   ]
  },
  {
   "cell_type": "code",
   "execution_count": 17,
   "metadata": {},
   "outputs": [
    {
     "name": "stdout",
     "output_type": "stream",
     "text": [
      "[[0. 0. 0. ... 0. 0. 0.]\n",
      " [0. 0. 0. ... 0. 0. 0.]\n",
      " [0. 0. 0. ... 0. 0. 0.]\n",
      " ...\n",
      " [0. 0. 0. ... 0. 0. 0.]\n",
      " [0. 0. 0. ... 0. 0. 0.]\n",
      " [0. 0. 0. ... 0. 0. 0.]] [0. 0. 0. ... 1. 1. 1.] 12665 12665\n"
     ]
    }
   ],
   "source": [
    "def y_label_train(lungime,cifra):\n",
    "    vect = np.empty(lungime)\n",
    "    vect.fill(cifra)\n",
    "    return vect\n",
    "\n",
    "def y_array_label(X,Y,x,y):\n",
    "    y_t=[]\n",
    "    y_t.append(y_label_train(len(X),x))\n",
    "    y_t.append(y_label_train(len(Y),y))\n",
    "    array_vect=np.concatenate((y_t[0],y_t[1]), axis=None)\n",
    "    return array_vect\n",
    "    \n",
    "\n",
    "\n",
    "X_train01=np.concatenate((train_pair_0_1[0], train_pair_0_1[1]), axis=0)\n",
    "y_train01=y_array_label(train_pair_0_1[0],train_pair_0_1[1],0,1)\n",
    "\n",
    "print(X_train01,y_train01,len(X_train01),len(y_train01))"
   ]
  },
  {
   "cell_type": "code",
   "execution_count": 18,
   "metadata": {},
   "outputs": [
    {
     "name": "stdout",
     "output_type": "stream",
     "text": [
      "[[0. 0. 0. ... 0. 0. 0.]\n",
      " [0. 0. 0. ... 0. 0. 0.]\n",
      " [0. 0. 0. ... 0. 0. 0.]\n",
      " ...\n",
      " [0. 0. 0. ... 0. 0. 0.]\n",
      " [0. 0. 0. ... 0. 0. 0.]\n",
      " [0. 0. 0. ... 0. 0. 0.]] [2. 2. 2. ... 7. 7. 7.] 12223 12223\n",
      "[[0. 0. 0. ... 0. 0. 0.]\n",
      " [0. 0. 0. ... 0. 0. 0.]\n",
      " [0. 0. 0. ... 0. 0. 0.]\n",
      " ...\n",
      " [0. 0. 0. ... 0. 0. 0.]\n",
      " [0. 0. 0. ... 0. 0. 0.]\n",
      " [0. 0. 0. ... 0. 0. 0.]] [3. 3. 3. ... 4. 4. 4.] 11973 11973\n",
      "[[0. 0. 0. ... 0. 0. 0.]\n",
      " [0. 0. 0. ... 0. 0. 0.]\n",
      " [0. 0. 0. ... 0. 0. 0.]\n",
      " ...\n",
      " [0. 0. 0. ... 0. 0. 0.]\n",
      " [0. 0. 0. ... 0. 0. 0.]\n",
      " [0. 0. 0. ... 0. 0. 0.]] [8. 8. 8. ... 9. 9. 9.] 11800 11800\n"
     ]
    }
   ],
   "source": [
    "X_train27=np.concatenate((train_pair_2_7[0], train_pair_2_7[1]), axis=0)\n",
    "y_train27=y_array_label(train_pair_2_7[0],train_pair_2_7[1],2,7)\n",
    "\n",
    "print(X_train27,y_train27,len(X_train27),len(y_train27))\n",
    "\n",
    "X_train34=np.concatenate((train_pair_3_4[0], train_pair_3_4[1]), axis=0)\n",
    "y_train34=y_array_label(train_pair_3_4[0],train_pair_3_4[1],3,4)\n",
    "print(X_train34,y_train34,len(X_train34),len(y_train34))\n",
    "\n",
    "X_train89=np.concatenate((train_pair_8_9[0], train_pair_8_9[1]), axis=0)\n",
    "y_train89=y_array_label(train_pair_8_9[0],train_pair_8_9[1],8,9)\n",
    "print(X_train89,y_train89,len(X_train89),len(y_train89))"
   ]
  },
  {
   "cell_type": "code",
   "execution_count": 19,
   "metadata": {},
   "outputs": [
    {
     "name": "stdout",
     "output_type": "stream",
     "text": [
      "[[0. 0. 0. ... 0. 0. 0.]\n",
      " [0. 0. 0. ... 0. 0. 0.]\n",
      " [0. 0. 0. ... 0. 0. 0.]\n",
      " ...\n",
      " [0. 0. 0. ... 0. 0. 0.]\n",
      " [0. 0. 0. ... 0. 0. 0.]\n",
      " [0. 0. 0. ... 0. 0. 0.]] [2. 2. 2. ... 7. 7. 7.] 2060 2060\n",
      "[[0. 0. 0. ... 0. 0. 0.]\n",
      " [0. 0. 0. ... 0. 0. 0.]\n",
      " [0. 0. 0. ... 0. 0. 0.]\n",
      " ...\n",
      " [0. 0. 0. ... 0. 0. 0.]\n",
      " [0. 0. 0. ... 0. 0. 0.]\n",
      " [0. 0. 0. ... 0. 0. 0.]] [3. 3. 3. ... 4. 4. 4.] 1992 1992\n",
      "[[0. 0. 0. ... 0. 0. 0.]\n",
      " [0. 0. 0. ... 0. 0. 0.]\n",
      " [0. 0. 0. ... 0. 0. 0.]\n",
      " ...\n",
      " [0. 0. 0. ... 0. 0. 0.]\n",
      " [0. 0. 0. ... 0. 0. 0.]\n",
      " [0. 0. 0. ... 0. 0. 0.]] [8. 8. 8. ... 9. 9. 9.] 1983 1983\n"
     ]
    }
   ],
   "source": [
    "X_test01=np.concatenate((test_pair_0_1[0], test_pair_0_1[1]), axis=0)\n",
    "y_test01=y_array_label(test_pair_0_1[0],test_pair_0_1[1],0,1)\n",
    "\n",
    "X_test27=np.concatenate((test_pair_2_7[0], test_pair_2_7[1]), axis=0)\n",
    "y_test27=y_array_label(test_pair_2_7[0],test_pair_2_7[1],2,7)\n",
    "\n",
    "print(X_test27,y_test27,len(X_test27),len(y_test27))\n",
    "\n",
    "X_test34=np.concatenate((test_pair_3_4[0], test_pair_3_4[1]), axis=0)\n",
    "y_test34=y_array_label(test_pair_3_4[0],test_pair_3_4[1],3,4)\n",
    "print(X_test34,y_test34,len(X_test34),len(y_test34))\n",
    "\n",
    "X_test89=np.concatenate((test_pair_8_9[0], test_pair_8_9[1]), axis=0)\n",
    "y_test89=y_array_label(test_pair_8_9[0],test_pair_8_9[1],8,9)\n",
    "print(X_test89,y_test89,len(X_test89),len(y_test89))"
   ]
  },
  {
   "cell_type": "code",
   "execution_count": 20,
   "metadata": {},
   "outputs": [],
   "source": [
    "from sklearn import linear_model\n",
    "\n",
    "import matplotlib as mpl\n",
    "import matplotlib.pyplot as plt\n",
    "import numpy as np\n",
    "import math\n",
    "\n",
    "class estimatorWrapper(linear_model.LogisticRegression):\n",
    "    def __init__(self, t, lr):\n",
    "        self.lr = lr\n",
    "        self.t = t\n",
    "        \n",
    "    def fit(self, X, y):\n",
    "        self.lr.fit(X,y)\n",
    "    \n",
    "    def predict(self, xVal):\n",
    "        predProb = self.lr.predict_proba(xVal)\n",
    "        ret = []\n",
    "        \n",
    "        def choice(p):\n",
    "            retVal = 0\n",
    "            \n",
    "            if p[1] > self.t:\n",
    "                retVal = 1\n",
    "            #print(p[1],self.t,retVal)\n",
    "            return retVal\n",
    "            \n",
    "        for p in predProb:\n",
    "            ret.append(choice(p))\n",
    "        return ret"
   ]
  },
  {
   "cell_type": "markdown",
   "metadata": {},
   "source": [
    "### validarea Cross-Fold pentru (0,1):"
   ]
  },
  {
   "cell_type": "code",
   "execution_count": 131,
   "metadata": {},
   "outputs": [
    {
     "name": "stdout",
     "output_type": "stream",
     "text": [
      "[0.53664303 0.53664303 0.53664303 0.53664303 0.53664303]\n",
      "[0.99763593 1.         0.99763593 0.99763593 0.99527187]\n",
      "[1.         1.         0.99763593 0.99763593 0.99763593]\n",
      "[1.         1.         0.99763593 0.99763593 0.99763593]\n",
      "[1.         1.         0.99763593 0.99763593 0.99763593]\n",
      "[1.         1.         0.99763593 1.         0.99763593]\n",
      "[1.         1.         0.99763593 1.         0.99763593]\n",
      "[1.         1.         0.99763593 1.         0.99763593]\n",
      "[1.         1.         0.99763593 1.         0.99763593]\n",
      "[1.         1.         1.         1.         0.99763593]\n",
      "[1.         1.         1.         1.         0.99763593]\n",
      "[1.         1.         1.         1.         0.99763593]\n",
      "[1.         1.         0.99763593 1.         0.99763593]\n",
      "[1.         1.         0.99763593 1.         0.99763593]\n",
      "[1.         0.99763593 0.99763593 1.         0.99763593]\n",
      "[1.         0.99763593 0.99763593 1.         0.99763593]\n",
      "[1.         0.99763593 0.99763593 1.         0.99763593]\n",
      "[1.         0.99527187 0.99763593 1.         0.99763593]\n",
      "[1.         0.99527187 0.99763593 1.         0.99763593]\n",
      "[1.         0.99527187 0.9929078  1.         0.99763593]\n",
      "[0.5366430260047281, 0.9976359338061466, 0.9985815602836879, 0.9985815602836879, 0.9985815602836879, 0.9990543735224586, 0.9990543735224586, 0.9990543735224586, 0.9990543735224586, 0.9995271867612294, 0.9995271867612294, 0.9995271867612294, 0.9990543735224586, 0.9990543735224586, 0.9985815602836879, 0.9985815602836879, 0.9985815602836879, 0.9981087470449174, 0.9981087470449174, 0.9971631205673759]\n"
     ]
    },
    {
     "data": {
      "image/png": "[encoded data removed]",
      "text/plain": [
       "<Figure size 432x288 with 1 Axes>"
      ]
     },
     "metadata": {
      "needs_background": "light"
     },
     "output_type": "display_data"
    }
   ],
   "source": [
    "from sklearn.model_selection import cross_val_score\n",
    "#linear_model.LogisticRegression(solver='lbfgs')\n",
    "#logistic_regression_model=LogisticRegression(penalty='l1',dual=False,max_iter=110, solver='liblinear')\n",
    "\n",
    "X, y = X_test01 , y_test01\n",
    "\n",
    "# t in [0, 1] with 0.05 increments\n",
    "t_range = np.arange(0.0, 1.0, 0.05)\n",
    "t_scores = []\n",
    "\n",
    "for t in t_range:\n",
    "    clf = linear_model.LogisticRegression(C=1e5,solver='liblinear')\n",
    "    wrapp = estimatorWrapper(t, clf)\n",
    "    scores = cross_val_score(wrapp, X, y, cv=5, scoring='accuracy')\n",
    "    print(scores)\n",
    "    t_scores.append(scores.mean())\n",
    "    \n",
    "print(t_scores)   \n",
    "plt.close()\n",
    "\n",
    "plt.plot(t_range, t_scores)\n",
    "plt.xlabel('Value of t for LR')\n",
    "plt.ylabel('Cross-validated accuracy')\n",
    "\n",
    "plt.show()"
   ]
  },
  {
   "cell_type": "code",
   "execution_count": 132,
   "metadata": {},
   "outputs": [
    {
     "name": "stdout",
     "output_type": "stream",
     "text": [
      "[0.5323332057735092, 0.9983419180774558, 0.9984998336172675, 0.9984209070190039, 0.9984998647766036, 0.9984208758350555, 0.9984208758350555, 0.9984209070190039, 0.9981839401943592, 0.9981839401943592, 0.9982628979519589, 0.9982628979519589, 0.9983418245502225, 0.9984208134917708, 0.9984997400900344, 0.9984208134917708, 0.998499802433319, 0.9984998647766036, 0.9982629915038045, 0.9978682650098658]\n"
     ]
    },
    {
     "data": {
      "image/png": "[encoded data removed]",
      "text/plain": [
       "<Figure size 432x288 with 1 Axes>"
      ]
     },
     "metadata": {
      "needs_background": "light"
     },
     "output_type": "display_data"
    }
   ],
   "source": [
    "from sklearn.model_selection import cross_val_score\n",
    "#linear_model.LogisticRegression(solver='lbfgs')\n",
    "#logistic_regression_model=LogisticRegression(penalty='l1',dual=False,max_iter=110, solver='liblinear')\n",
    "\n",
    "X, y = X_train01 , y_train01\n",
    "\n",
    "# t in [0, 1] with 0.05 increments\n",
    "t_range = np.arange(0.0, 1.0, 0.05)\n",
    "t_scores = []\n",
    "\n",
    "for t in t_range:\n",
    "    clf = linear_model.LogisticRegression(C=1e5,solver='liblinear')\n",
    "    wrapp = estimatorWrapper(t, clf)\n",
    "    scores = cross_val_score(wrapp, X, y, cv=5, scoring='accuracy')\n",
    "    t_scores.append(scores.mean())\n",
    "    \n",
    "print(t_scores)   \n",
    "plt.close()\n",
    "\n",
    "plt.plot(t_range, t_scores)\n",
    "plt.xlabel('Value of t for LR')\n",
    "plt.ylabel('Cross-validated accuracy')\n",
    "\n",
    "plt.show()"
   ]
  },
  {
   "cell_type": "markdown",
   "metadata": {},
   "source": [
    "### validarea Cross-Fold pentru (2,7):"
   ]
  },
  {
   "cell_type": "code",
   "execution_count": 133,
   "metadata": {},
   "outputs": [
    {
     "data": {
      "text/plain": [
       "12223"
      ]
     },
     "execution_count": 133,
     "metadata": {},
     "output_type": "execute_result"
    }
   ],
   "source": [
    "len(X_train27)"
   ]
  },
  {
   "cell_type": "code",
   "execution_count": 134,
   "metadata": {},
   "outputs": [
    {
     "name": "stdout",
     "output_type": "stream",
     "text": [
      "[0.0, 0.0, 0.0, 0.0, 0.0, 0.0, 0.0, 0.0, 0.0, 0.0, 0.0, 0.0, 0.0, 0.0, 0.0, 0.0, 0.0, 0.0, 0.0, 0.0]\n"
     ]
    },
    {
     "data": {
      "image/png": "[encoded data removed]",
      "text/plain": [
       "<Figure size 432x288 with 1 Axes>"
      ]
     },
     "metadata": {
      "needs_background": "light"
     },
     "output_type": "display_data"
    }
   ],
   "source": [
    "from sklearn.model_selection import cross_val_score\n",
    "\n",
    "X, y = X_train27 , y_train27\n",
    "\n",
    "logisticRegr = linear_model.LogisticRegression(solver = 'lbfgs', max_iter=1100)\n",
    "model = logisticRegr.fit(X , y)\n",
    "\n",
    "# t in [0, 1] with 0.05 increments\n",
    "t_range = np.arange(0.0, 1.0, 0.05)\n",
    "t_scores = []\n",
    "\n",
    "for t in t_range:\n",
    "    clf = linear_model.LogisticRegression(C=1e5,solver='liblinear')\n",
    "    wrapp = estimatorWrapper(t, clf)\n",
    "    scores = cross_val_score(wrapp, X, y, cv=5, scoring='accuracy')\n",
    "    t_scores.append(scores.mean())\n",
    "    \n",
    "print(t_scores)   \n",
    "plt.close()\n",
    "\n",
    "plt.plot(t_range, t_scores)\n",
    "plt.xlabel('Value of t for LR')\n",
    "plt.ylabel('Cross-validated accuracy')\n",
    "\n",
    "plt.show()"
   ]
  },
  {
   "cell_type": "markdown",
   "metadata": {},
   "source": [
    "### validarea Cross-Fold pentru (3,4):"
   ]
  },
  {
   "cell_type": "code",
   "execution_count": 135,
   "metadata": {},
   "outputs": [
    {
     "name": "stdout",
     "output_type": "stream",
     "text": [
      "1992 1992 [[9.96646635e-01 3.35336482e-03]\n",
      " [9.99995397e-01 4.60306899e-06]\n",
      " [9.99344813e-01 6.55186926e-04]\n",
      " ...\n",
      " [6.21740769e-05 9.99937826e-01]\n",
      " [4.47744853e-05 9.99955226e-01]\n",
      " [7.22233689e-05 9.99927777e-01]]\n"
     ]
    }
   ],
   "source": [
    "model = logisticRegr.fit(X_test34 , y_test34)\n",
    "predProb = logisticRegr.predict_proba(X_test34)\n",
    "print(len(X_test34),len(predProb),predProb)"
   ]
  },
  {
   "cell_type": "markdown",
   "metadata": {},
   "source": [
    "##### desi 'predprob' arata bine, si am urmarit si valorile din clasa 'estimatorWrapper' rezultatul performantei este unul pe care nu mi l-am putut explica prea bine ; folosind functiile predefinite am obtinut rezutate foarte bune ale performantei\n"
   ]
  },
  {
   "cell_type": "code",
   "execution_count": 23,
   "metadata": {},
   "outputs": [
    {
     "name": "stdout",
     "output_type": "stream",
     "text": [
      "0.9984966173891255\n",
      "[0.99373957 0.99331942 0.99331662 0.99540518 0.99373434] 0.9939030243485935\n"
     ]
    }
   ],
   "source": [
    "from sklearn.model_selection import cross_val_score\n",
    "\n",
    "logisticRegr = linear_model.LogisticRegression(solver = 'lbfgs',max_iter=1100)\n",
    "\n",
    "model=logisticRegr.fit(X_train34,y_train34)\n",
    "\n",
    "score = logisticRegr.score(X_train34, y_train34)\n",
    "print(score)\n",
    "\n",
    "#sau\n",
    "\n",
    "scores = cross_val_score(model, X_train34, y_train34, cv=5)\n",
    "print(scores,scores.mean())"
   ]
  },
  {
   "cell_type": "code",
   "execution_count": 38,
   "metadata": {},
   "outputs": [
    {
     "name": "stdout",
     "output_type": "stream",
     "text": [
      "[0.0, 0.0, 0.0, 0.0, 0.0, 0.0, 0.0, 0.0, 0.0, 0.0, 0.0, 0.0, 0.0, 0.0, 0.0, 0.0, 0.0, 0.0, 0.0, 0.0]\n"
     ]
    },
    {
     "data": {
      "image/png": "[encoded data removed]",
      "text/plain": [
       "<Figure size 432x288 with 1 Axes>"
      ]
     },
     "metadata": {
      "needs_background": "light"
     },
     "output_type": "display_data"
    }
   ],
   "source": [
    "from sklearn.model_selection import cross_val_score\n",
    "\n",
    "X, y = X_train34 , y_train34\n",
    "\n",
    "\n",
    "# t in [0, 1] with 0.05 increments\n",
    "t_range = np.arange(0.0, 1.0, 0.05)\n",
    "t_scores = []\n",
    "\n",
    "for t in t_range:\n",
    "    clf = linear_model.LogisticRegression(C=1e5,solver='lbfgs',max_iter=1100)\n",
    "    wrapp = estimatorWrapper(t, clf)\n",
    "    scores = cross_val_score(wrapp, X, y, cv=5, scoring='accuracy')\n",
    "    t_scores.append(scores.mean())\n",
    "    \n",
    "print(t_scores)   \n",
    "plt.close()\n",
    "\n",
    "plt.plot(t_range, t_scores)\n",
    "plt.xlabel('Value of t for LR')\n",
    "plt.ylabel('Cross-validated accuracy')\n",
    "\n",
    "plt.show()"
   ]
  },
  {
   "cell_type": "markdown",
   "metadata": {},
   "source": [
    "### validarea Cross-Fold pentru (8,9):"
   ]
  },
  {
   "cell_type": "code",
   "execution_count": 137,
   "metadata": {},
   "outputs": [
    {
     "name": "stdout",
     "output_type": "stream",
     "text": [
      "[0.0, 0.0, 0.0, 0.0, 0.0, 0.0, 0.0, 0.0, 0.0, 0.0, 0.0, 0.0, 0.0, 0.0, 0.0, 0.0, 0.0, 0.0, 0.0, 0.0]\n"
     ]
    },
    {
     "data": {
      "image/png": "[encoded data removed]",
      "text/plain": [
       "<Figure size 432x288 with 1 Axes>"
      ]
     },
     "metadata": {
      "needs_background": "light"
     },
     "output_type": "display_data"
    }
   ],
   "source": [
    "from sklearn.model_selection import cross_val_score\n",
    "\n",
    "X, y = X_test89 , y_test89\n",
    "\n",
    "# t in [0, 1] with 0.05 increments\n",
    "t_range = np.arange(0.0, 1.0, 0.05)\n",
    "t_scores = []\n",
    "\n",
    "for t in t_range:\n",
    "    clf = linear_model.LogisticRegression(C=1e5,solver='lbfgs',max_iter=1100)\n",
    "    wrapp = estimatorWrapper(t, clf)\n",
    "    scores = cross_val_score(wrapp, X, y, cv=5, scoring='accuracy')\n",
    "    t_scores.append(scores.mean())\n",
    "    \n",
    "print(t_scores)   \n",
    "plt.close()\n",
    "\n",
    "plt.plot(t_range, t_scores)\n",
    "plt.xlabel('Value of t for LR')\n",
    "plt.ylabel('Cross-validated accuracy')\n",
    "\n",
    "plt.show()"
   ]
  },
  {
   "cell_type": "markdown",
   "metadata": {},
   "source": [
    "#### 3.Choose the best performing threshold, t_best. Train a logistic regression model on the entire train dataset and then set the threshold parameter for the resulting model to t_best."
   ]
  },
  {
   "cell_type": "code",
   "execution_count": 24,
   "metadata": {},
   "outputs": [
    {
     "name": "stdout",
     "output_type": "stream",
     "text": [
      "48661 48661\n"
     ]
    }
   ],
   "source": [
    "# din pct 2.) de la perechea (1,0) scorul cel mai mare l-am obtinut pentru t=0.25\n",
    "\n",
    "t_best=0.25\n",
    "\n",
    "X_train_total1=np.concatenate((X_train01, X_train27), axis=0)\n",
    "X_train_total2=np.concatenate((X_train34, X_train89), axis=0)\n",
    "X_train_total=np.concatenate((X_train_total1, X_train_total2), axis=0)\n",
    "\n",
    "y_train_total1=np.concatenate((y_train01, y_train27), axis=0)\n",
    "y_train_total2=np.concatenate((y_train34, y_train89), axis=0)\n",
    "y_train_total=np.concatenate((y_train_total1, y_train_total2), axis=0)\n",
    "print(len(X_train_total),len(y_train_total))"
   ]
  },
  {
   "cell_type": "code",
   "execution_count": 25,
   "metadata": {},
   "outputs": [
    {
     "name": "stdout",
     "output_type": "stream",
     "text": [
      "[0.9984998647766036]\n"
     ]
    }
   ],
   "source": [
    "from sklearn.model_selection import cross_val_score\n",
    "\n",
    "X, y = X_train01 , y_train01\n",
    "\n",
    "t_best=0.20\n",
    "t_scores = []\n",
    "\n",
    "clf = linear_model.LogisticRegression(C=1e5,solver='liblinear', max_iter=1100)\n",
    "wrapp = estimatorWrapper(t_best, clf)\n",
    "scores = cross_val_score(wrapp, X, y, cv=5, scoring='accuracy')\n",
    "t_scores.append(scores.mean())\n",
    "    \n",
    "print(t_scores)   "
   ]
  },
  {
   "cell_type": "code",
   "execution_count": 26,
   "metadata": {},
   "outputs": [
    {
     "name": "stdout",
     "output_type": "stream",
     "text": [
      "[0.0]\n"
     ]
    }
   ],
   "source": [
    "from sklearn.model_selection import cross_val_score\n",
    "\n",
    "X, y = X_train27 , y_train27\n",
    "\n",
    "t_best=0.20\n",
    "t_scores = []\n",
    "\n",
    "clf = linear_model.LogisticRegression(C=1e5,solver='liblinear', max_iter=1100)\n",
    "wrapp = estimatorWrapper(t_best, clf)\n",
    "scores = cross_val_score(wrapp, X, y, cv=5, scoring='accuracy')\n",
    "t_scores.append(scores.mean())\n",
    "    \n",
    "print(t_scores)"
   ]
  },
  {
   "cell_type": "markdown",
   "metadata": {},
   "source": [
    "#### acest rezultat nu il inteleg; insa, daca folosim functia 'score' cu t predefinit, obtinem un rezultat interpretabil:"
   ]
  },
  {
   "cell_type": "code",
   "execution_count": 27,
   "metadata": {},
   "outputs": [
    {
     "name": "stdout",
     "output_type": "stream",
     "text": [
      "0.9945185306389593\n"
     ]
    }
   ],
   "source": [
    "logisticRegr = linear_model.LogisticRegression(solver = 'lbfgs',max_iter=1100)\n",
    "\n",
    "model=logisticRegr.fit(X_train27,y_train27)\n",
    "\n",
    "score = logisticRegr.score(X_train27, y_train27)\n",
    "print(score)"
   ]
  },
  {
   "cell_type": "markdown",
   "metadata": {},
   "source": [
    "#### sau putem folosi functia 'cross_val_score'"
   ]
  },
  {
   "cell_type": "code",
   "execution_count": 28,
   "metadata": {},
   "outputs": [
    {
     "data": {
      "text/plain": [
       "array([0.98895706, 0.98650307, 0.98364008, 0.98158756, 0.98608838])"
      ]
     },
     "execution_count": 28,
     "metadata": {},
     "output_type": "execute_result"
    }
   ],
   "source": [
    "scores = cross_val_score(model, X_train27, y_train27, cv=5)\n",
    "scores"
   ]
  },
  {
   "cell_type": "code",
   "execution_count": 29,
   "metadata": {},
   "outputs": [
    {
     "data": {
      "text/plain": [
       "0.9853552291158347"
      ]
     },
     "execution_count": 29,
     "metadata": {},
     "output_type": "execute_result"
    }
   ],
   "source": [
    "scores.mean()"
   ]
  },
  {
   "cell_type": "code",
   "execution_count": null,
   "metadata": {},
   "outputs": [],
   "source": [
    "from sklearn.model_selection import cross_val_score\n",
    "\n",
    "X, y = X_train_total , y_train_total\n",
    "\n",
    "t_scores = []\n",
    "\n",
    "clf = linear_model.LogisticRegression(C=1e5,solver='liblinear', max_iter=1100,multi_class='auto')\n",
    "wrapp = estimatorWrapper(t_best, clf)\n",
    "scores = cross_val_score(wrapp, X, y, cv=5, scoring='accuracy')\n",
    "t_scores.append(scores.mean())\n",
    "    \n",
    "print(t_scores)   \n",
    "plt.close()\n",
    "\n",
    "plt.plot(t_range, t_scores)\n",
    "plt.xlabel('Value of t for LR')\n",
    "plt.ylabel('Cross-validated accuracy')\n",
    "\n",
    "plt.show()"
   ]
  },
  {
   "cell_type": "markdown",
   "metadata": {},
   "source": [
    "#### 6.Choose 5 misclassified examples from the test data set. Using the methods provided below (viewSquareImage or viewImageByIndex), display the images and labels for each."
   ]
  },
  {
   "cell_type": "code",
   "execution_count": 30,
   "metadata": {},
   "outputs": [],
   "source": [
    "def viewSquareImage(imageOnSingleLine, label=\"\",predict=\"\"):\n",
    "    \"\"\"\n",
    "    View a single image.\n",
    "\n",
    "    Parameters\n",
    "    ----------\n",
    "    image : numpy array\n",
    "        Make sure this is of the shape you want.\n",
    "    label : str\n",
    "    \"\"\"\n",
    "    from matplotlib.pyplot import show, imshow, cm\n",
    "    import matplotlib.pyplot as plt\n",
    "    \n",
    "    plt.close()\n",
    "    \n",
    "    print(\"Label: %s\" % label,\"Predict: %s\" % predict)\n",
    "    size = int(len(imageOnSingleLine)**(0.5))\n",
    "    imageSquare = imageOnSingleLine.reshape((size, size))\n",
    "    imshow(imageSquare, cmap=cm.gray)\n",
    "    show()   \n",
    "    \n",
    "def viewImageByIndex(dataDict, idx, prediction, trainOrTest=\"test\"):\n",
    "    viewSquareImage(dataDict[trainOrTest]['X'][idx], dataDict[trainOrTest]['y'][idx],prediction)"
   ]
  },
  {
   "cell_type": "code",
   "execution_count": 31,
   "metadata": {},
   "outputs": [
    {
     "data": {
      "text/plain": [
       "8"
      ]
     },
     "execution_count": 31,
     "metadata": {},
     "output_type": "execute_result"
    }
   ],
   "source": [
    "model = logisticRegr.fit(X_train34 , y_train34)\n",
    "prediction34= logisticRegr.predict(X_test34)\n",
    "index = 0\n",
    "misclassifiedIndexes = []\n",
    "\n",
    "for label, predict in zip(y_test34, prediction34):\n",
    "    if (label != predict): \n",
    "        misclassifiedIndexes.append(index)\n",
    "    index +=1\n",
    "len(misclassifiedIndexes)"
   ]
  },
  {
   "cell_type": "code",
   "execution_count": 32,
   "metadata": {},
   "outputs": [
    {
     "data": {
      "text/plain": [
       "{'train': {'X': array([[0., 0., 0., ..., 0., 0., 0.],\n",
       "         [0., 0., 0., ..., 0., 0., 0.],\n",
       "         [0., 0., 0., ..., 0., 0., 0.],\n",
       "         ...,\n",
       "         [0., 0., 0., ..., 0., 0., 0.],\n",
       "         [0., 0., 0., ..., 0., 0., 0.],\n",
       "         [0., 0., 0., ..., 0., 0., 0.]], dtype=float32),\n",
       "  'y': array([3., 3., 3., ..., 4., 4., 4.])},\n",
       " 'test': {'X': array([[0., 0., 0., ..., 0., 0., 0.],\n",
       "         [0., 0., 0., ..., 0., 0., 0.],\n",
       "         [0., 0., 0., ..., 0., 0., 0.],\n",
       "         ...,\n",
       "         [0., 0., 0., ..., 0., 0., 0.],\n",
       "         [0., 0., 0., ..., 0., 0., 0.],\n",
       "         [0., 0., 0., ..., 0., 0., 0.]], dtype=float32),\n",
       "  'y': array([3., 3., 3., ..., 4., 4., 4.])}}"
      ]
     },
     "execution_count": 32,
     "metadata": {},
     "output_type": "execute_result"
    }
   ],
   "source": [
    "my_dict = {'train':{'X' : X_train34 , 'y' : y_train34},\n",
    "           'test':{'X' : X_test34 , 'y' : y_test34}}\n",
    "my_dict"
   ]
  },
  {
   "cell_type": "code",
   "execution_count": 33,
   "metadata": {},
   "outputs": [
    {
     "name": "stdout",
     "output_type": "stream",
     "text": [
      "Label: 3.0 Predict: 4.0\n"
     ]
    },
    {
     "data": {
      "image/png": "[encoded data removed]",
      "text/plain": [
       "<Figure size 432x288 with 1 Axes>"
      ]
     },
     "metadata": {
      "needs_background": "light"
     },
     "output_type": "display_data"
    },
    {
     "name": "stdout",
     "output_type": "stream",
     "text": [
      "Label: 3.0 Predict: 4.0\n"
     ]
    },
    {
     "data": {
      "image/png": "[encoded data removed]",
      "text/plain": [
       "<Figure size 432x288 with 1 Axes>"
      ]
     },
     "metadata": {
      "needs_background": "light"
     },
     "output_type": "display_data"
    },
    {
     "name": "stdout",
     "output_type": "stream",
     "text": [
      "Label: 3.0 Predict: 4.0\n"
     ]
    },
    {
     "data": {
      "image/png": "[encoded data removed]",
      "text/plain": [
       "<Figure size 432x288 with 1 Axes>"
      ]
     },
     "metadata": {
      "needs_background": "light"
     },
     "output_type": "display_data"
    },
    {
     "name": "stdout",
     "output_type": "stream",
     "text": [
      "Label: 3.0 Predict: 4.0\n"
     ]
    },
    {
     "data": {
      "image/png": "[encoded data removed]",
      "text/plain": [
       "<Figure size 432x288 with 1 Axes>"
      ]
     },
     "metadata": {
      "needs_background": "light"
     },
     "output_type": "display_data"
    },
    {
     "name": "stdout",
     "output_type": "stream",
     "text": [
      "Label: 3.0 Predict: 4.0\n"
     ]
    },
    {
     "data": {
      "image/png": "[encoded data removed]",
      "text/plain": [
       "<Figure size 432x288 with 1 Axes>"
      ]
     },
     "metadata": {
      "needs_background": "light"
     },
     "output_type": "display_data"
    }
   ],
   "source": [
    "plt.figure(figsize=(20,4))\n",
    "for plotIndex, badIndex in enumerate(misclassifiedIndexes[0:5]):\n",
    "    plt.subplot(1, 5, plotIndex + 1)\n",
    "    #imageId = 3\n",
    "    viewImageByIndex(my_dict, badIndex, prediction34[badIndex])"
   ]
  },
  {
   "cell_type": "markdown",
   "metadata": {},
   "source": [
    "#### 5. Choose 5 well classified examples from the test data set. Using the methods provided below (viewSquareImage or viewImageByIndex), display the images and labels for each."
   ]
  },
  {
   "cell_type": "code",
   "execution_count": 34,
   "metadata": {},
   "outputs": [
    {
     "data": {
      "text/plain": [
       "2114"
      ]
     },
     "execution_count": 34,
     "metadata": {},
     "output_type": "execute_result"
    }
   ],
   "source": [
    "model = logisticRegr.fit(X_train01 , y_train01)\n",
    "prediction01= logisticRegr.predict(X_test01)\n",
    "index = 0\n",
    "classifiedIndexes = []\n",
    "\n",
    "for label, predict in zip(y_test01, prediction01):\n",
    "    if (label == predict): \n",
    "        classifiedIndexes.append(index)\n",
    "    index +=1\n",
    "len(classifiedIndexes)"
   ]
  },
  {
   "cell_type": "code",
   "execution_count": 35,
   "metadata": {},
   "outputs": [],
   "source": [
    "my_dict01 = {'train':{'X' : X_train01 , 'y' : y_train01},\n",
    "           'test':{'X' : X_test01 , 'y' : y_test01}}"
   ]
  },
  {
   "cell_type": "code",
   "execution_count": 36,
   "metadata": {},
   "outputs": [
    {
     "name": "stdout",
     "output_type": "stream",
     "text": [
      "Label: 0.0 Predict: 0.0\n"
     ]
    },
    {
     "data": {
      "image/png": "[encoded data removed]",
      "text/plain": [
       "<Figure size 432x288 with 1 Axes>"
      ]
     },
     "metadata": {
      "needs_background": "light"
     },
     "output_type": "display_data"
    },
    {
     "name": "stdout",
     "output_type": "stream",
     "text": [
      "Label: 0.0 Predict: 0.0\n"
     ]
    },
    {
     "data": {
      "image/png": "[encoded data removed]",
      "text/plain": [
       "<Figure size 432x288 with 1 Axes>"
      ]
     },
     "metadata": {
      "needs_background": "light"
     },
     "output_type": "display_data"
    },
    {
     "name": "stdout",
     "output_type": "stream",
     "text": [
      "Label: 0.0 Predict: 0.0\n"
     ]
    },
    {
     "data": {
      "image/png": "[encoded data removed]",
      "text/plain": [
       "<Figure size 432x288 with 1 Axes>"
      ]
     },
     "metadata": {
      "needs_background": "light"
     },
     "output_type": "display_data"
    },
    {
     "name": "stdout",
     "output_type": "stream",
     "text": [
      "Label: 0.0 Predict: 0.0\n"
     ]
    },
    {
     "data": {
      "image/png": "[encoded data removed]",
      "text/plain": [
       "<Figure size 432x288 with 1 Axes>"
      ]
     },
     "metadata": {
      "needs_background": "light"
     },
     "output_type": "display_data"
    },
    {
     "name": "stdout",
     "output_type": "stream",
     "text": [
      "Label: 0.0 Predict: 0.0\n"
     ]
    },
    {
     "data": {
      "image/png": "[encoded data removed]",
      "text/plain": [
       "<Figure size 432x288 with 1 Axes>"
      ]
     },
     "metadata": {
      "needs_background": "light"
     },
     "output_type": "display_data"
    }
   ],
   "source": [
    "for plotIndex, badIndex in enumerate(misclassifiedIndexes[0:5]):\n",
    "    viewImageByIndex(my_dict01, badIndex, prediction01[badIndex])"
   ]
  },
  {
   "cell_type": "markdown",
   "metadata": {},
   "source": [
    "#### Am lucrat in paralel si in notebook-ul \"exersez\" sa descopar functii si modalitati de predictie, calcularea performantei, plotare etc."
   ]
  },
  {
   "cell_type": "code",
   "execution_count": null,
   "metadata": {},
   "outputs": [],
   "source": []
  }
 ],
 "metadata": {
  "kernelspec": {
   "display_name": "Python 3",
   "language": "python",
   "name": "python3"
  },
  "language_info": {
   "codemirror_mode": {
    "name": "ipython",
    "version": 3
   },
   "file_extension": ".py",
   "mimetype": "text/x-python",
   "name": "python",
   "nbconvert_exporter": "python",
   "pygments_lexer": "ipython3",
   "version": "3.7.4"
  }
 },
 "nbformat": 4,
 "nbformat_minor": 2
}
