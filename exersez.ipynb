{
 "cells": [
  {
   "cell_type": "code",
   "execution_count": 2,
   "metadata": {},
   "outputs": [],
   "source": [
    "import numpy as np\n",
    "\n",
    "def get_mnist_data():\n",
    "    import os\n",
    "    from urllib.request import urlretrieve\n",
    "\n",
    "    def download(filename, source='http://yann.lecun.com/exdb/mnist/'):\n",
    "        print(\"Downloading %s\" % filename)\n",
    "        urlretrieve(source + filename, filename)\n",
    "\n",
    "    # We then define functions for loading MNIST images and labels.\n",
    "    # For convenience, they also download the requested files if needed.\n",
    "    import gzip\n",
    "\n",
    "    def load_mnist_images(filename):\n",
    "        if not os.path.exists(filename):\n",
    "            download(filename)\n",
    "        # Read the inputs in Yann LeCun's binary format.\n",
    "        with gzip.open(filename, 'rb') as f:\n",
    "            data = np.frombuffer(f.read(), np.uint8, offset=16)\n",
    "        # The inputs are vectors now, we reshape them to monochrome 2D images,\n",
    "        # following the shape convention: (examples, channels, rows, columns)\n",
    "        data = data.reshape(-1, 1, 28, 28)\n",
    "        # The inputs come as bytes, we convert them to float32 in range [0,1].\n",
    "        # (Actually to range [0, 255/256], for compatibility to the version\n",
    "        # provided at http://deeplearning.net/data/mnist/mnist.pkl.gz.)\n",
    "        return data / np.float32(256)\n",
    "\n",
    "    def load_mnist_labels(filename):\n",
    "        if not os.path.exists(filename):\n",
    "            download(filename)\n",
    "        # Read the labels in Yann LeCun's binary format.\n",
    "        with gzip.open(filename, 'rb') as f:\n",
    "            data = np.frombuffer(f.read(), np.uint8, offset=8)\n",
    "        # The labels are vectors of integers now, that's exactly what we want.\n",
    "        return data\n",
    "\n",
    "\n",
    "    x_train = load_mnist_images('train-images-idx3-ubyte.gz')\n",
    "    y_train = load_mnist_labels('train-labels-idx1-ubyte.gz')\n",
    "    x_test = load_mnist_images('t10k-images-idx3-ubyte.gz')\n",
    "    y_test = load_mnist_labels('t10k-labels-idx1-ubyte.gz')\n",
    "    \n",
    "    data = {'train': {'X': x_train[0:,0,0:28,0:28].reshape((x_train.shape[0],-1)),\n",
    "                      'y': y_train},\n",
    "            'test': {'X': x_test[0:,0,0:28,0:28].reshape((x_test.shape[0],-1)),\n",
    "                     'y': y_test}}\n",
    "    \n",
    "    return data\n"
   ]
  },
  {
   "cell_type": "code",
   "execution_count": 3,
   "metadata": {},
   "outputs": [],
   "source": [
    "data = get_mnist_data()"
   ]
  },
  {
   "cell_type": "code",
   "execution_count": 4,
   "metadata": {},
   "outputs": [],
   "source": [
    "m=len(data['train']['y'][:])\n",
    "n=len(data['test']['y'][:])\n",
    "def search_indici(x):\n",
    "    #m=len(data['train']['y'][:])\n",
    "    #n=len(data['test']['y'][:])\n",
    "    list_train=np.array([])\n",
    "    list_test=np.array([])\n",
    "    for i in range(m):\n",
    "        if(data['train']['y'][i] == x):\n",
    "            list_train=np.append(list_train,[i])\n",
    "    for i in range(n):\n",
    "        if(data['test']['y'][i] == x):\n",
    "            list_test=np.append(list_test,[i])        \n",
    "    return (list_train,list_test)"
   ]
  },
  {
   "cell_type": "code",
   "execution_count": 5,
   "metadata": {},
   "outputs": [],
   "source": [
    "# construim o functie, pornind de la ideea \"functiei train_for_number(x,y)\" , care va returna un set de date \"(data_x,data_y)\"\n",
    "# parametrii de intrare a functiei vor fi x si y , numerele din perechea de cifre,  iar ch este un String care va reprezenta\n",
    "# dorinta noastra de extragere a datelor : daca ch='train' extragem datele din data['train']['X'], daca \n",
    "# ch='test' extragem datele din data['test']['X']\n",
    "\n",
    "def data_for_pair(x,y,ch):\n",
    "    if (ch == 'train'):\n",
    "        l=0\n",
    "    if (ch == 'test'):\n",
    "        l=1\n",
    "    a=[]\n",
    "    b=[]\n",
    "    indici_x=search_indici(x)[l].astype(int)\n",
    "    indici_y=search_indici(y)[l].astype(int)\n",
    "    n=len(indici_x)\n",
    "    m=len(indici_y)\n",
    "    for i in range(n):\n",
    "        a.append(data[ch]['X'][indici_x[i]])\n",
    "    for j in range(m):\n",
    "        b.append(data[ch]['X'][indici_y[j]])\n",
    "    data_x = np.asarray(a)\n",
    "    data_y = np.asarray(b)\n",
    "    return (data_x,data_y)\n"
   ]
  },
  {
   "cell_type": "code",
   "execution_count": 6,
   "metadata": {},
   "outputs": [
    {
     "name": "stdout",
     "output_type": "stream",
     "text": [
      "5923 6742\n",
      "980 1135\n",
      "[[0. 0. 0. ... 0. 0. 0.]\n",
      " [0. 0. 0. ... 0. 0. 0.]\n",
      " [0. 0. 0. ... 0. 0. 0.]\n",
      " ...\n",
      " [0. 0. 0. ... 0. 0. 0.]\n",
      " [0. 0. 0. ... 0. 0. 0.]\n",
      " [0. 0. 0. ... 0. 0. 0.]]\n"
     ]
    }
   ],
   "source": [
    "train_pair_0_1=data_for_pair(0,1,'train')\n",
    "test_pair_0_1=data_for_pair(0,1,'test')\n",
    "\n",
    "print(len(train_pair_0_1[0]),len(train_pair_0_1[1]))\n",
    "print(len(test_pair_0_1[0]),len(test_pair_0_1[1]))\n",
    "print(train_pair_0_1[0])"
   ]
  },
  {
   "cell_type": "code",
   "execution_count": 7,
   "metadata": {},
   "outputs": [],
   "source": [
    "train_pair_2_7=data_for_pair(2,7,'train')\n",
    "test_pair_2_7=data_for_pair(2,7,'test')\n",
    "train_pair_3_4=data_for_pair(3,4,'train')\n",
    "test_pair_3_4=data_for_pair(3,4,'test')\n",
    "train_pair_8_9=data_for_pair(8,9,'train')\n",
    "test_pair_8_9=data_for_pair(8,9,'test')"
   ]
  },
  {
   "cell_type": "code",
   "execution_count": 8,
   "metadata": {},
   "outputs": [
    {
     "name": "stdout",
     "output_type": "stream",
     "text": [
      "[[0. 0. 0. ... 0. 0. 0.]\n",
      " [0. 0. 0. ... 0. 0. 0.]\n",
      " [0. 0. 0. ... 0. 0. 0.]\n",
      " ...\n",
      " [0. 0. 0. ... 0. 0. 0.]\n",
      " [0. 0. 0. ... 0. 0. 0.]\n",
      " [0. 0. 0. ... 0. 0. 0.]] [0. 0. 0. ... 1. 1. 1.] 12665 12665\n"
     ]
    }
   ],
   "source": [
    "def y_label_train(lungime,cifra):\n",
    "    vect = np.empty(lungime)\n",
    "    vect.fill(cifra)\n",
    "    return vect\n",
    "\n",
    "def y_array_label(X,Y,x,y):\n",
    "    y_t=[]\n",
    "    y_t.append(y_label_train(len(X),x))\n",
    "    y_t.append(y_label_train(len(Y),y))\n",
    "    array_vect=np.concatenate((y_t[0],y_t[1]), axis=None)\n",
    "    return array_vect\n",
    "    \n",
    "\n",
    "\n",
    "X_train01=np.concatenate((train_pair_0_1[0], train_pair_0_1[1]), axis=0)\n",
    "y_train01=y_array_label(train_pair_0_1[0],train_pair_0_1[1],0,1)\n",
    "\n",
    "print(X_train01,y_train01,len(X_train01),len(y_train01))"
   ]
  },
  {
   "cell_type": "code",
   "execution_count": 9,
   "metadata": {},
   "outputs": [
    {
     "name": "stdout",
     "output_type": "stream",
     "text": [
      "[[0. 0. 0. ... 0. 0. 0.]\n",
      " [0. 0. 0. ... 0. 0. 0.]\n",
      " [0. 0. 0. ... 0. 0. 0.]\n",
      " ...\n",
      " [0. 0. 0. ... 0. 0. 0.]\n",
      " [0. 0. 0. ... 0. 0. 0.]\n",
      " [0. 0. 0. ... 0. 0. 0.]] [2. 2. 2. ... 7. 7. 7.] 12223 12223\n",
      "[[0. 0. 0. ... 0. 0. 0.]\n",
      " [0. 0. 0. ... 0. 0. 0.]\n",
      " [0. 0. 0. ... 0. 0. 0.]\n",
      " ...\n",
      " [0. 0. 0. ... 0. 0. 0.]\n",
      " [0. 0. 0. ... 0. 0. 0.]\n",
      " [0. 0. 0. ... 0. 0. 0.]] [3. 3. 3. ... 4. 4. 4.] 11973 11973\n",
      "[[0. 0. 0. ... 0. 0. 0.]\n",
      " [0. 0. 0. ... 0. 0. 0.]\n",
      " [0. 0. 0. ... 0. 0. 0.]\n",
      " ...\n",
      " [0. 0. 0. ... 0. 0. 0.]\n",
      " [0. 0. 0. ... 0. 0. 0.]\n",
      " [0. 0. 0. ... 0. 0. 0.]] [8. 8. 8. ... 9. 9. 9.] 11800 11800\n"
     ]
    }
   ],
   "source": [
    "X_train27=np.concatenate((train_pair_2_7[0], train_pair_2_7[1]), axis=0)\n",
    "y_train27=y_array_label(train_pair_2_7[0],train_pair_2_7[1],2,7)\n",
    "\n",
    "print(X_train27,y_train27,len(X_train27),len(y_train27))\n",
    "\n",
    "X_train34=np.concatenate((train_pair_3_4[0], train_pair_3_4[1]), axis=0)\n",
    "y_train34=y_array_label(train_pair_3_4[0],train_pair_3_4[1],3,4)\n",
    "print(X_train34,y_train34,len(X_train34),len(y_train34))\n",
    "\n",
    "X_train89=np.concatenate((train_pair_8_9[0], train_pair_8_9[1]), axis=0)\n",
    "y_train89=y_array_label(train_pair_8_9[0],train_pair_8_9[1],8,9)\n",
    "print(X_train89,y_train89,len(X_train89),len(y_train89))"
   ]
  },
  {
   "cell_type": "code",
   "execution_count": 19,
   "metadata": {},
   "outputs": [
    {
     "name": "stdout",
     "output_type": "stream",
     "text": [
      "[[0. 0. 0. ... 0. 0. 0.]\n",
      " [0. 0. 0. ... 0. 0. 0.]\n",
      " [0. 0. 0. ... 0. 0. 0.]\n",
      " ...\n",
      " [0. 0. 0. ... 0. 0. 0.]\n",
      " [0. 0. 0. ... 0. 0. 0.]\n",
      " [0. 0. 0. ... 0. 0. 0.]] [2. 2. 2. ... 7. 7. 7.] 2060 2060\n",
      "[[0. 0. 0. ... 0. 0. 0.]\n",
      " [0. 0. 0. ... 0. 0. 0.]\n",
      " [0. 0. 0. ... 0. 0. 0.]\n",
      " ...\n",
      " [0. 0. 0. ... 0. 0. 0.]\n",
      " [0. 0. 0. ... 0. 0. 0.]\n",
      " [0. 0. 0. ... 0. 0. 0.]] [3. 3. 3. ... 4. 4. 4.] 1992 1992\n",
      "[[0. 0. 0. ... 0. 0. 0.]\n",
      " [0. 0. 0. ... 0. 0. 0.]\n",
      " [0. 0. 0. ... 0. 0. 0.]\n",
      " ...\n",
      " [0. 0. 0. ... 0. 0. 0.]\n",
      " [0. 0. 0. ... 0. 0. 0.]\n",
      " [0. 0. 0. ... 0. 0. 0.]] [8. 8. 8. ... 9. 9. 9.] 1983 1983\n"
     ]
    }
   ],
   "source": [
    "X_test01=np.concatenate((test_pair_0_1[0], test_pair_0_1[1]), axis=0)\n",
    "y_test01=y_array_label(test_pair_0_1[0],test_pair_0_1[1],0,1)\n",
    "\n",
    "X_test27=np.concatenate((test_pair_2_7[0], test_pair_2_7[1]), axis=0)\n",
    "y_test27=y_array_label(test_pair_2_7[0],test_pair_2_7[1],2,7)\n",
    "\n",
    "print(X_test27,y_test27,len(X_test27),len(y_test27))\n",
    "\n",
    "X_test34=np.concatenate((test_pair_3_4[0], test_pair_3_4[1]), axis=0)\n",
    "y_test34=y_array_label(test_pair_3_4[0],test_pair_3_4[1],3,4)\n",
    "print(X_test34,y_test34,len(X_test34),len(y_test34))\n",
    "\n",
    "X_test89=np.concatenate((test_pair_8_9[0], test_pair_8_9[1]), axis=0)\n",
    "y_test89=y_array_label(test_pair_8_9[0],test_pair_8_9[1],8,9)\n",
    "print(X_test89,y_test89,len(X_test89),len(y_test89))"
   ]
  },
  {
   "cell_type": "code",
   "execution_count": 21,
   "metadata": {},
   "outputs": [
    {
     "data": {
      "text/plain": [
       "array([2., 2., 2., ..., 7., 7., 7.])"
      ]
     },
     "execution_count": 21,
     "metadata": {},
     "output_type": "execute_result"
    }
   ],
   "source": [
    "from sklearn.linear_model import LogisticRegression\n",
    "from sklearn.model_selection import cross_val_score, cross_val_predict\n",
    "\n",
    "# Make an instance of the Model\n",
    "# all parameters not specified are set to their defaults\n",
    "# default solver is incredibly slow thats why we change it\n",
    "logisticRegr = LogisticRegression(solver = 'lbfgs', max_iter=1100)\n",
    "\n",
    "model = logisticRegr.fit(X_train27 , y_train27)\n",
    "predictions = logisticRegr.predict(X_test27)\n",
    "predictions"
   ]
  },
  {
   "cell_type": "code",
   "execution_count": 22,
   "metadata": {},
   "outputs": [
    {
     "data": {
      "text/plain": [
       "Text(0, 0.5, 'Predictions')"
      ]
     },
     "execution_count": 22,
     "metadata": {},
     "output_type": "execute_result"
    },
    {
     "data": {
      "image/png": "[encoded data removed]",
      "text/plain": [
       "<Figure size 432x288 with 1 Axes>"
      ]
     },
     "metadata": {
      "needs_background": "light"
     },
     "output_type": "display_data"
    }
   ],
   "source": [
    "plt.scatter(y_test27, predictions)\n",
    "plt.xlabel('True Values')\n",
    "plt.ylabel('Predictions')"
   ]
  },
  {
   "cell_type": "code",
   "execution_count": 18,
   "metadata": {},
   "outputs": [
    {
     "data": {
      "text/plain": [
       "0.9810679611650486"
      ]
     },
     "execution_count": 18,
     "metadata": {},
     "output_type": "execute_result"
    }
   ],
   "source": [
    "model.score(X_test27, y_test27)"
   ]
  },
  {
   "cell_type": "code",
   "execution_count": 23,
   "metadata": {},
   "outputs": [
    {
     "data": {
      "text/plain": [
       "array([0.98895706, 0.98650307, 0.98364008, 0.98158756, 0.98608838])"
      ]
     },
     "execution_count": 23,
     "metadata": {},
     "output_type": "execute_result"
    }
   ],
   "source": [
    "scores = cross_val_score(model, X_train27, y_train27, cv=5)\n",
    "scores"
   ]
  },
  {
   "cell_type": "code",
   "execution_count": 74,
   "metadata": {},
   "outputs": [
    {
     "name": "stdout",
     "output_type": "stream",
     "text": [
      "0.9995271867612293\n"
     ]
    }
   ],
   "source": [
    "from sklearn.linear_model import LogisticRegression\n",
    "\n",
    "# Make an instance of the Model\n",
    "\n",
    "# all parameters not specified are set to their defaults\n",
    "# default solver is incredibly slow thats why we change it\n",
    "logisticRegr = LogisticRegression(solver = 'lbfgs', max_iter=1100)\n",
    "\n",
    "#Training the model on the data, storing the information learned from the data\n",
    "#Model is learning the relationship between x (digits) and y (labels)\n",
    "logisticRegr.fit(X_train01,y_train01)\n",
    "\n",
    "#Predict the labels of new data (new images)\n",
    "# Returns a NumPy Array\n",
    "# Predict for One Observation (image)\n",
    "logisticRegr.predict(X_test01[0].reshape(1,-1))\n",
    "\n",
    "#Predict for Multiple Observations (images) at Once\n",
    "logisticRegr.predict(X_test01[0:10])\n",
    "\n",
    "#Make predictions on entire test data\n",
    "predictions = logisticRegr.predict(X_test01)\n",
    "\n",
    "score = logisticRegr.score(X_test01, y_test01)\n",
    "print(score)"
   ]
  },
  {
   "cell_type": "code",
   "execution_count": 75,
   "metadata": {},
   "outputs": [
    {
     "name": "stdout",
     "output_type": "stream",
     "text": [
      "0.9810679611650486\n"
     ]
    }
   ],
   "source": [
    "logisticRegr = LogisticRegression(solver = 'lbfgs',max_iter=1100)\n",
    "\n",
    "logisticRegr.fit(X_train27,y_train27)\n",
    "\n",
    "#Predict the labels of new data (new images)\n",
    "# Returns a NumPy Array\n",
    "# Predict for One Observation (image)\n",
    "logisticRegr.predict(X_test27[0].reshape(1,-1))\n",
    "\n",
    "#Predict for Multiple Observations (images) at Once\n",
    "logisticRegr.predict(X_test27[0:10])\n",
    "\n",
    "#Make predictions on entire test data\n",
    "predictions = logisticRegr.predict(X_test27)\n",
    "\n",
    "score = logisticRegr.score(X_test27, y_test27)\n",
    "print(score)"
   ]
  },
  {
   "cell_type": "code",
   "execution_count": 76,
   "metadata": {},
   "outputs": [
    {
     "name": "stdout",
     "output_type": "stream",
     "text": [
      "0.9959839357429718\n"
     ]
    }
   ],
   "source": [
    "from sklearn.linear_model import LogisticRegression\n",
    "\n",
    "# Make an instance of the Model\n",
    "\n",
    "# all parameters not specified are set to their defaults\n",
    "# default solver is incredibly slow thats why we change it\n",
    "logisticRegr = LogisticRegression(solver = 'lbfgs',max_iter=1100)\n",
    "\n",
    "#Training the model on the data, storing the information learned from the data\n",
    "#Model is learning the relationship between x (digits) and y (labels)\n",
    "logisticRegr.fit(X_train34,y_train34)\n",
    "\n",
    "#Predict the labels of new data (new images)\n",
    "# Returns a NumPy Array\n",
    "# Predict for One Observation (image)\n",
    "logisticRegr.predict(X_test34[0].reshape(1,-1))\n",
    "\n",
    "#Predict for Multiple Observations (images) at Once\n",
    "logisticRegr.predict(X_test34[0:10])\n",
    "\n",
    "#Make predictions on entire test data\n",
    "predictions = logisticRegr.predict(X_test34)\n",
    "\n",
    "score = logisticRegr.score(X_test34, y_test34)\n",
    "print(score)"
   ]
  },
  {
   "cell_type": "code",
   "execution_count": 24,
   "metadata": {},
   "outputs": [
    {
     "name": "stdout",
     "output_type": "stream",
     "text": [
      "0.9803328290468987 [8. 8. 8. ... 9. 9. 9.]\n"
     ]
    }
   ],
   "source": [
    "from sklearn.linear_model import LogisticRegression\n",
    "\n",
    "# Make an instance of the Model\n",
    "\n",
    "# all parameters not specified are set to their defaults\n",
    "# default solver is incredibly slow thats why we change it\n",
    "logisticRegr = LogisticRegression(solver = 'lbfgs', max_iter=1100)\n",
    "\n",
    "#Training the model on the data, storing the information learned from the data\n",
    "#Model is learning the relationship between x (digits) and y (labels)\n",
    "logisticRegr.fit(X_train89,y_train89)\n",
    "\n",
    "#Predict the labels of new data (new images)\n",
    "# Returns a NumPy Array\n",
    "# Predict for One Observation (image)\n",
    "logisticRegr.predict(X_test89[0].reshape(1,-1))\n",
    "\n",
    "#Predict for Multiple Observations (images) at Once\n",
    "logisticRegr.predict(X_test89[0:10])\n",
    "\n",
    "#Make predictions on entire test data\n",
    "predictions = logisticRegr.predict(X_test89)\n",
    "\n",
    "score = logisticRegr.score(X_test89, y_test89)\n",
    "print(score,predictions)"
   ]
  },
  {
   "cell_type": "code",
   "execution_count": 90,
   "metadata": {},
   "outputs": [
    {
     "data": {
      "text/plain": [
       "Text(0, 0.5, 'Predictions')"
      ]
     },
     "execution_count": 90,
     "metadata": {},
     "output_type": "execute_result"
    },
    {
     "data": {
      "image/png": "[encoded data removed]",
      "text/plain": [
       "<Figure size 432x288 with 1 Axes>"
      ]
     },
     "metadata": {
      "needs_background": "light"
     },
     "output_type": "display_data"
    }
   ],
   "source": [
    "model = logisticRegr.fit(X_train01 , y_train01)\n",
    "predictions1 = logisticRegr.predict(X_test01)\n",
    "\n",
    "plt.scatter(y_test01, predictions1)\n",
    "plt.xlabel('True Values')\n",
    "plt.ylabel('Predictions')\n"
   ]
  },
  {
   "cell_type": "code",
   "execution_count": 25,
   "metadata": {},
   "outputs": [
    {
     "data": {
      "text/plain": [
       "Text(0, 0.5, 'Predictions')"
      ]
     },
     "execution_count": 25,
     "metadata": {},
     "output_type": "execute_result"
    },
    {
     "data": {
      "image/png": "[encoded data removed]",
      "text/plain": [
       "<Figure size 432x288 with 1 Axes>"
      ]
     },
     "metadata": {
      "needs_background": "light"
     },
     "output_type": "display_data"
    }
   ],
   "source": [
    "model = logisticRegr.fit(X_train89 , y_train89)\n",
    "predictions1 = logisticRegr.predict(X_test89)\n",
    "\n",
    "plt.scatter(y_test89, predictions1)\n",
    "plt.xlabel('True Values')\n",
    "plt.ylabel('Predictions')"
   ]
  },
  {
   "cell_type": "code",
   "execution_count": 158,
   "metadata": {},
   "outputs": [
    {
     "data": {
      "text/plain": [
       "1"
      ]
     },
     "execution_count": 158,
     "metadata": {},
     "output_type": "execute_result"
    }
   ],
   "source": [
    "import numpy as np \n",
    "import matplotlib.pyplot as plt\n",
    "\n",
    "model = logisticRegr.fit(X_train01 , y_train01)\n",
    "predictions = logisticRegr.predict(X_test01)\n",
    "index = 0\n",
    "misclassifiedIndexes = []\n",
    "for label, predict in zip(y_test01, predictions1):\n",
    "    if label != predict: \n",
    "        misclassifiedIndexes.append(index)\n",
    "    index +=1\n",
    "len(misclassifiedIndexes)"
   ]
  },
  {
   "cell_type": "code",
   "execution_count": 159,
   "metadata": {},
   "outputs": [
    {
     "data": {
      "image/png": "[encoded data removed]",
      "text/plain": [
       "<Figure size 1440x288 with 1 Axes>"
      ]
     },
     "metadata": {
      "needs_background": "light"
     },
     "output_type": "display_data"
    }
   ],
   "source": [
    "plt.figure(figsize=(20,4))\n",
    "for plotIndex, badIndex in enumerate(misclassifiedIndexes[0:5]):\n",
    "    plt.subplot(1, 5, plotIndex + 1)\n",
    "    plt.imshow(np.reshape(X_test01[badIndex], (28,28)), cmap=plt.cm.gray)\n",
    "    plt.title('Predicted: {}, Actual: {}'.format(predictions1[badIndex], y_test01[badIndex]), fontsize = 15)"
   ]
  },
  {
   "cell_type": "code",
   "execution_count": 160,
   "metadata": {},
   "outputs": [
    {
     "data": {
      "image/png": "[encoded data removed]",
      "text/plain": [
       "<Figure size 1440x288 with 5 Axes>"
      ]
     },
     "metadata": {
      "needs_background": "light"
     },
     "output_type": "display_data"
    }
   ],
   "source": [
    "index = 0\n",
    "classifiedIndexes = []\n",
    "for label, predict in zip(y_test01, predictions1):\n",
    "    if label == predict: \n",
    "        classifiedIndexes.append(index)\n",
    "        index +=1\n",
    "\n",
    "plt.figure(figsize=(20,4))\n",
    "for plotIndex, goodIndex in enumerate(classifiedIndexes[0:5]):\n",
    "    plt.subplot(1, 5, plotIndex + 1)\n",
    "    plt.imshow(np.reshape(X_test01[goodIndex], (28,28)), cmap=plt.cm.gray)\n",
    "    plt.title('Predicted: {}, Actual: {}'.format(predictions1[goodIndex], y_test01[goodIndex]), fontsize = 15)"
   ]
  },
  {
   "cell_type": "code",
   "execution_count": 161,
   "metadata": {},
   "outputs": [
    {
     "data": {
      "text/plain": [
       "39"
      ]
     },
     "execution_count": 161,
     "metadata": {},
     "output_type": "execute_result"
    }
   ],
   "source": [
    "model = logisticRegr.fit(X_train27 , y_train27)\n",
    "pred = logisticRegr.predict(X_test27)\n",
    "index = 0\n",
    "misclassifiedIndexes = []\n",
    "\n",
    "for label, predict in zip(y_test27, pred):\n",
    "    if (label != predict): \n",
    "        misclassifiedIndexes.append(index)\n",
    "    index +=1\n",
    "len(misclassifiedIndexes)"
   ]
  },
  {
   "cell_type": "code",
   "execution_count": 162,
   "metadata": {},
   "outputs": [
    {
     "data": {
      "image/png": "[encoded data removed]",
      "text/plain": [
       "<Figure size 1440x288 with 5 Axes>"
      ]
     },
     "metadata": {
      "needs_background": "light"
     },
     "output_type": "display_data"
    }
   ],
   "source": [
    "plt.figure(figsize=(20,4))\n",
    "for plotIndex, badIndex in enumerate(misclassifiedIndexes[0:5]):\n",
    "    plt.subplot(1, 5, plotIndex + 1)\n",
    "    plt.imshow(np.reshape(X_test27[badIndex], (28,28)), cmap=plt.cm.gray)\n",
    "    plt.title('Predicted: {}, Actual: {}'.format(pred[badIndex], y_test27[badIndex]), fontsize = 15)"
   ]
  },
  {
   "cell_type": "code",
   "execution_count": 163,
   "metadata": {},
   "outputs": [
    {
     "data": {
      "text/plain": [
       "8"
      ]
     },
     "execution_count": 163,
     "metadata": {},
     "output_type": "execute_result"
    }
   ],
   "source": [
    "model = logisticRegr.fit(X_train34 , y_train34)\n",
    "prediction34= logisticRegr.predict(X_test34)\n",
    "index = 0\n",
    "misclassifiedIndexes = []\n",
    "\n",
    "for label, predict in zip(y_test34, prediction34):\n",
    "    if (label != predict): \n",
    "        misclassifiedIndexes.append(index)\n",
    "    index +=1\n",
    "len(misclassifiedIndexes)"
   ]
  },
  {
   "cell_type": "code",
   "execution_count": 164,
   "metadata": {},
   "outputs": [
    {
     "data": {
      "image/png": "[encoded data removed]",
      "text/plain": [
       "<Figure size 1440x288 with 5 Axes>"
      ]
     },
     "metadata": {
      "needs_background": "light"
     },
     "output_type": "display_data"
    }
   ],
   "source": [
    "plt.figure(figsize=(20,4))\n",
    "for plotIndex, badIndex in enumerate(misclassifiedIndexes[0:5]):\n",
    "    plt.subplot(1, 5, plotIndex + 1)\n",
    "    plt.imshow(np.reshape(X_test34[badIndex], (28,28)), cmap=plt.cm.gray)\n",
    "    plt.title('Predicted: {}, Actual: {}'.format(prediction34[badIndex], y_test34[badIndex]), fontsize = 15)"
   ]
  },
  {
   "cell_type": "code",
   "execution_count": 165,
   "metadata": {},
   "outputs": [
    {
     "data": {
      "text/plain": [
       "39"
      ]
     },
     "execution_count": 165,
     "metadata": {},
     "output_type": "execute_result"
    }
   ],
   "source": [
    "model = logisticRegr.fit(X_train89 , y_train89)\n",
    "prediction89= logisticRegr.predict(X_test89)\n",
    "index = 0\n",
    "misclassifiedIndexes = []\n",
    "\n",
    "for label, predict in zip(y_test89, prediction89):\n",
    "    if (label != predict): \n",
    "        misclassifiedIndexes.append(index)\n",
    "    index +=1\n",
    "len(misclassifiedIndexes)"
   ]
  },
  {
   "cell_type": "code",
   "execution_count": 166,
   "metadata": {},
   "outputs": [
    {
     "data": {
      "image/png": "[encoded data removed]",
      "text/plain": [
       "<Figure size 1440x288 with 5 Axes>"
      ]
     },
     "metadata": {
      "needs_background": "light"
     },
     "output_type": "display_data"
    }
   ],
   "source": [
    "plt.figure(figsize=(20,4))\n",
    "for plotIndex, badIndex in enumerate(misclassifiedIndexes[0:5]):\n",
    "    plt.subplot(1, 5, plotIndex + 1)\n",
    "    plt.imshow(np.reshape(X_test89[badIndex], (28,28)), cmap=plt.cm.gray)\n",
    "    plt.title('Predicted: {}, Actual: {}'.format(prediction89[badIndex], y_test89[badIndex]), fontsize = 15)"
   ]
  },
  {
   "cell_type": "markdown",
   "metadata": {},
   "source": [
    "### Modelul cu toate datele:"
   ]
  },
  {
   "cell_type": "code",
   "execution_count": 26,
   "metadata": {},
   "outputs": [],
   "source": [
    "X_train_total1=np.concatenate((X_train01, X_train27), axis=0)\n",
    "X_train_total2=np.concatenate((X_train34, X_train89), axis=0)\n",
    "X_train_total=np.concatenate((X_train_total1, X_train_total2), axis=0)\n",
    "\n",
    "y_train_total1=np.concatenate((y_train01, y_train27), axis=0)\n",
    "y_train_total2=np.concatenate((y_train34, y_train89), axis=0)\n",
    "y_train_total=np.concatenate((y_train_total1, y_train_total2), axis=0)\n",
    "\n",
    "X_test_total1=np.concatenate((X_test01, X_test27), axis=0)\n",
    "X_test_total2=np.concatenate((X_test34, X_test89), axis=0)\n",
    "X_test_total=np.concatenate((X_test_total1, X_test_total2), axis=0)\n",
    "\n",
    "y_test_total1=np.concatenate((y_test01, y_test27), axis=0)\n",
    "y_test_total2=np.concatenate((y_test34, y_test89), axis=0)\n",
    "y_test_total=np.concatenate((y_test_total1, y_test_total2), axis=0)"
   ]
  },
  {
   "cell_type": "code",
   "execution_count": 28,
   "metadata": {},
   "outputs": [
    {
     "name": "stdout",
     "output_type": "stream",
     "text": [
      "0.9386503067484663 [0. 0. 0. ... 9. 9. 9.]\n"
     ]
    }
   ],
   "source": [
    "from sklearn.linear_model import LogisticRegression\n",
    "\n",
    "logisticRegr = LogisticRegression(solver = 'lbfgs', max_iter=1100,multi_class='auto')\n",
    "\n",
    "logisticRegr.fit(X_train_total,y_train_total)\n",
    "\n",
    "logisticRegr.predict(X_test_total[0].reshape(1,-1))\n",
    "\n",
    "#Predict for Multiple Observations (images) at Once\n",
    "logisticRegr.predict(X_test_total[0:10])\n",
    "\n",
    "#Make predictions on entire test data\n",
    "predictions = logisticRegr.predict(X_test_total)\n",
    "\n",
    "score = logisticRegr.score(X_test_total,y_test_total)\n",
    "print(score,predictions)"
   ]
  },
  {
   "cell_type": "code",
   "execution_count": 29,
   "metadata": {},
   "outputs": [
    {
     "data": {
      "text/plain": [
       "500"
      ]
     },
     "execution_count": 29,
     "metadata": {},
     "output_type": "execute_result"
    }
   ],
   "source": [
    "model = logisticRegr.fit(X_train_total,y_train_total)\n",
    "prediction_total= logisticRegr.predict(X_test_total)\n",
    "index = 0\n",
    "misclassifiedIndexes = []\n",
    "\n",
    "for label, predict in zip(y_test_total, prediction_total):\n",
    "    if (label != predict): \n",
    "        misclassifiedIndexes.append(index)\n",
    "    index +=1\n",
    "len(misclassifiedIndexes)"
   ]
  },
  {
   "cell_type": "code",
   "execution_count": 30,
   "metadata": {},
   "outputs": [
    {
     "data": {
      "text/plain": [
       "Text(0, 0.5, 'Predictions')"
      ]
     },
     "execution_count": 30,
     "metadata": {},
     "output_type": "execute_result"
    },
    {
     "data": {
      "image/png": "[encoded data removed]",
      "text/plain": [
       "<Figure size 432x288 with 1 Axes>"
      ]
     },
     "metadata": {
      "needs_background": "light"
     },
     "output_type": "display_data"
    }
   ],
   "source": [
    "model = logisticRegr.fit(X_train_total,y_train_total)\n",
    "predictions1 = logisticRegr.predict(X_test_total)\n",
    "\n",
    "plt.scatter(y_test_total, predictions1)\n",
    "plt.xlabel('True Values')\n",
    "plt.ylabel('Predictions')"
   ]
  },
  {
   "cell_type": "code",
   "execution_count": null,
   "metadata": {},
   "outputs": [],
   "source": []
  }
 ],
 "metadata": {
  "kernelspec": {
   "display_name": "Python 3",
   "language": "python",
   "name": "python3"
  },
  "language_info": {
   "codemirror_mode": {
    "name": "ipython",
    "version": 3
   },
   "file_extension": ".py",
   "mimetype": "text/x-python",
   "name": "python",
   "nbconvert_exporter": "python",
   "pygments_lexer": "ipython3",
   "version": "3.7.4"
  }
 },
 "nbformat": 4,
 "nbformat_minor": 2
}
